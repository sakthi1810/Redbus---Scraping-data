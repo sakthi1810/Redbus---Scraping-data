{
 "cells": [
  {
   "cell_type": "markdown",
   "id": "24912fd3-8a27-4116-8c1e-c19f18828e8e",
   "metadata": {
    "jp-MarkdownHeadingCollapsed": true
   },
   "source": [
    "# My SQL connector"
   ]
  },
  {
   "cell_type": "code",
   "execution_count": 1,
   "id": "1fffaac9-b243-4e20-8ed2-36a9ce21fc3c",
   "metadata": {},
   "outputs": [
    {
     "name": "stdout",
     "output_type": "stream",
     "text": [
      "Requirement already satisfied: mysql.connector in c:\\users\\ilaya-03\\anaconda3\\lib\\site-packages (2.2.9)\n"
     ]
    }
   ],
   "source": [
    "! pip install mysql.connector"
   ]
  },
  {
   "cell_type": "code",
   "execution_count": 3,
   "id": "36cd2e11-f29f-4c15-a64b-30942dd27180",
   "metadata": {},
   "outputs": [],
   "source": [
    "import mysql.connector\n",
    "import pandas as pd\n",
    "import numpy as np"
   ]
  },
  {
   "cell_type": "code",
   "execution_count": 5,
   "id": "c3cf1d43-e596-4e06-9c68-7ea5ce1bc144",
   "metadata": {},
   "outputs": [
    {
     "data": {
      "text/html": [
       "<div>\n",
       "<style scoped>\n",
       "    .dataframe tbody tr th:only-of-type {\n",
       "        vertical-align: middle;\n",
       "    }\n",
       "\n",
       "    .dataframe tbody tr th {\n",
       "        vertical-align: top;\n",
       "    }\n",
       "\n",
       "    .dataframe thead th {\n",
       "        text-align: right;\n",
       "    }\n",
       "</style>\n",
       "<table border=\"1\" class=\"dataframe\">\n",
       "  <thead>\n",
       "    <tr style=\"text-align: right;\">\n",
       "      <th></th>\n",
       "      <th>Bus_name</th>\n",
       "      <th>Bus_type</th>\n",
       "      <th>Start_time</th>\n",
       "      <th>End_time</th>\n",
       "      <th>Total_duration</th>\n",
       "      <th>Price</th>\n",
       "      <th>Seats_Available</th>\n",
       "      <th>Ratings</th>\n",
       "      <th>Route_link</th>\n",
       "      <th>Route_name</th>\n",
       "      <th>State_Name</th>\n",
       "    </tr>\n",
       "  </thead>\n",
       "  <tbody>\n",
       "    <tr>\n",
       "      <th>0</th>\n",
       "      <td>IntrCity SmartBus</td>\n",
       "      <td>Scania AC Multi Axle Sleeper (2+1)</td>\n",
       "      <td>23:59</td>\n",
       "      <td>06:30</td>\n",
       "      <td>06h 31m</td>\n",
       "      <td>INR 649</td>\n",
       "      <td>20 Seats available</td>\n",
       "      <td>4.5\\n473</td>\n",
       "      <td>https://www.redbus.in/bus-tickets/hyderabad-to...</td>\n",
       "      <td>Hyderabad to Vijayawada</td>\n",
       "      <td>Aandhra_Pradesh</td>\n",
       "    </tr>\n",
       "    <tr>\n",
       "      <th>1</th>\n",
       "      <td>Zingbus Plus</td>\n",
       "      <td>A/C Seater / Sleeper (2+1)</td>\n",
       "      <td>23:38</td>\n",
       "      <td>06:05</td>\n",
       "      <td>06h 27m</td>\n",
       "      <td>486</td>\n",
       "      <td>27 Seats available</td>\n",
       "      <td>4.5\\n474</td>\n",
       "      <td>https://www.redbus.in/bus-tickets/hyderabad-to...</td>\n",
       "      <td>Hyderabad to Vijayawada</td>\n",
       "      <td>Aandhra_Pradesh</td>\n",
       "    </tr>\n",
       "    <tr>\n",
       "      <th>2</th>\n",
       "      <td>FRESHBUS</td>\n",
       "      <td>Electric A/C Seater (2+2)</td>\n",
       "      <td>00:20</td>\n",
       "      <td>06:30</td>\n",
       "      <td>06h 10m</td>\n",
       "      <td>499</td>\n",
       "      <td>24 Seats available</td>\n",
       "      <td>4.5\\n428</td>\n",
       "      <td>https://www.redbus.in/bus-tickets/hyderabad-to...</td>\n",
       "      <td>Hyderabad to Vijayawada</td>\n",
       "      <td>Aandhra_Pradesh</td>\n",
       "    </tr>\n",
       "    <tr>\n",
       "      <th>3</th>\n",
       "      <td>AdIntrCity SmartBus</td>\n",
       "      <td>A/C Seater / Sleeper (2+1)</td>\n",
       "      <td>23:25</td>\n",
       "      <td>07:15</td>\n",
       "      <td>07h 50m</td>\n",
       "      <td>INR 449</td>\n",
       "      <td>29 Seats available</td>\n",
       "      <td>4.2\\n236</td>\n",
       "      <td>https://www.redbus.in/bus-tickets/hyderabad-to...</td>\n",
       "      <td>Hyderabad to Vijayawada</td>\n",
       "      <td>Aandhra_Pradesh</td>\n",
       "    </tr>\n",
       "    <tr>\n",
       "      <th>4</th>\n",
       "      <td>IntrCity SmartBus</td>\n",
       "      <td>A/C Seater / Sleeper (2+1)</td>\n",
       "      <td>23:05</td>\n",
       "      <td>06:00</td>\n",
       "      <td>06h 55m</td>\n",
       "      <td>INR 529</td>\n",
       "      <td>23 Seats available</td>\n",
       "      <td>4.4\\n542</td>\n",
       "      <td>https://www.redbus.in/bus-tickets/hyderabad-to...</td>\n",
       "      <td>Hyderabad to Vijayawada</td>\n",
       "      <td>Aandhra_Pradesh</td>\n",
       "    </tr>\n",
       "    <tr>\n",
       "      <th>...</th>\n",
       "      <td>...</td>\n",
       "      <td>...</td>\n",
       "      <td>...</td>\n",
       "      <td>...</td>\n",
       "      <td>...</td>\n",
       "      <td>...</td>\n",
       "      <td>...</td>\n",
       "      <td>...</td>\n",
       "      <td>...</td>\n",
       "      <td>...</td>\n",
       "      <td>...</td>\n",
       "    </tr>\n",
       "    <tr>\n",
       "      <th>1048</th>\n",
       "      <td>Malana Travels</td>\n",
       "      <td>Volvo 9600 Multi Axle Semi-Sleeper (2+2)</td>\n",
       "      <td>20:00</td>\n",
       "      <td>06:00</td>\n",
       "      <td>10h 00m</td>\n",
       "      <td>902</td>\n",
       "      <td>15 Seats available</td>\n",
       "      <td>4.5\\n381</td>\n",
       "      <td>https://www.redbus.in/bus-tickets/manali-to-delhi</td>\n",
       "      <td>Manali to Delhi</td>\n",
       "      <td>Himachal Pradesh</td>\n",
       "    </tr>\n",
       "    <tr>\n",
       "      <th>1049</th>\n",
       "      <td>Royal Travels Hills</td>\n",
       "      <td>Volvo A/C Semi Sleeper (2+2)</td>\n",
       "      <td>19:30</td>\n",
       "      <td>06:00</td>\n",
       "      <td>10h 30m</td>\n",
       "      <td>INR 1099</td>\n",
       "      <td>27 Seats available</td>\n",
       "      <td>4.5\\n3</td>\n",
       "      <td>https://www.redbus.in/bus-tickets/manali-to-delhi</td>\n",
       "      <td>Manali to Delhi</td>\n",
       "      <td>Himachal Pradesh</td>\n",
       "    </tr>\n",
       "    <tr>\n",
       "      <th>1050</th>\n",
       "      <td>VT Bus</td>\n",
       "      <td>Scania Multi-Axle AC Semi Sleeper (2+2)</td>\n",
       "      <td>21:00</td>\n",
       "      <td>08:00</td>\n",
       "      <td>11h 00m</td>\n",
       "      <td>754</td>\n",
       "      <td>6 Seats available</td>\n",
       "      <td>4.5\\n13</td>\n",
       "      <td>https://www.redbus.in/bus-tickets/manali-to-delhi</td>\n",
       "      <td>Manali to Delhi</td>\n",
       "      <td>Himachal Pradesh</td>\n",
       "    </tr>\n",
       "    <tr>\n",
       "      <th>1051</th>\n",
       "      <td>IntrCity SmartBus</td>\n",
       "      <td>Volvo A/C Semi Sleeper (2+2)</td>\n",
       "      <td>19:30</td>\n",
       "      <td>06:45</td>\n",
       "      <td>11h 15m</td>\n",
       "      <td>INR 749</td>\n",
       "      <td>8 Seats available</td>\n",
       "      <td>4.7\\n382</td>\n",
       "      <td>https://www.redbus.in/bus-tickets/manali-to-delhi</td>\n",
       "      <td>Manali to Delhi</td>\n",
       "      <td>Himachal Pradesh</td>\n",
       "    </tr>\n",
       "    <tr>\n",
       "      <th>1052</th>\n",
       "      <td>Zingbus Plus</td>\n",
       "      <td>Volvo 9600 A/C Semi Sleeper (2+2)</td>\n",
       "      <td>18:40</td>\n",
       "      <td>06:00</td>\n",
       "      <td>11h 20m</td>\n",
       "      <td>805</td>\n",
       "      <td>9 Seats available</td>\n",
       "      <td>4.6\\n365</td>\n",
       "      <td>https://www.redbus.in/bus-tickets/manali-to-delhi</td>\n",
       "      <td>Manali to Delhi</td>\n",
       "      <td>Himachal Pradesh</td>\n",
       "    </tr>\n",
       "  </tbody>\n",
       "</table>\n",
       "<p>1053 rows × 11 columns</p>\n",
       "</div>"
      ],
      "text/plain": [
       "                 Bus_name                                  Bus_type  \\\n",
       "0       IntrCity SmartBus        Scania AC Multi Axle Sleeper (2+1)   \n",
       "1            Zingbus Plus                A/C Seater / Sleeper (2+1)   \n",
       "2                FRESHBUS                 Electric A/C Seater (2+2)   \n",
       "3     AdIntrCity SmartBus                A/C Seater / Sleeper (2+1)   \n",
       "4       IntrCity SmartBus                A/C Seater / Sleeper (2+1)   \n",
       "...                   ...                                       ...   \n",
       "1048       Malana Travels  Volvo 9600 Multi Axle Semi-Sleeper (2+2)   \n",
       "1049  Royal Travels Hills              Volvo A/C Semi Sleeper (2+2)   \n",
       "1050               VT Bus   Scania Multi-Axle AC Semi Sleeper (2+2)   \n",
       "1051    IntrCity SmartBus              Volvo A/C Semi Sleeper (2+2)   \n",
       "1052         Zingbus Plus         Volvo 9600 A/C Semi Sleeper (2+2)   \n",
       "\n",
       "     Start_time End_time Total_duration     Price     Seats_Available  \\\n",
       "0         23:59    06:30        06h 31m   INR 649  20 Seats available   \n",
       "1         23:38    06:05        06h 27m       486  27 Seats available   \n",
       "2         00:20    06:30        06h 10m       499  24 Seats available   \n",
       "3         23:25    07:15        07h 50m   INR 449  29 Seats available   \n",
       "4         23:05    06:00        06h 55m   INR 529  23 Seats available   \n",
       "...         ...      ...            ...       ...                 ...   \n",
       "1048      20:00    06:00        10h 00m       902  15 Seats available   \n",
       "1049      19:30    06:00        10h 30m  INR 1099  27 Seats available   \n",
       "1050      21:00    08:00        11h 00m       754   6 Seats available   \n",
       "1051      19:30    06:45        11h 15m   INR 749   8 Seats available   \n",
       "1052      18:40    06:00        11h 20m       805   9 Seats available   \n",
       "\n",
       "       Ratings                                         Route_link  \\\n",
       "0     4.5\\n473  https://www.redbus.in/bus-tickets/hyderabad-to...   \n",
       "1     4.5\\n474  https://www.redbus.in/bus-tickets/hyderabad-to...   \n",
       "2     4.5\\n428  https://www.redbus.in/bus-tickets/hyderabad-to...   \n",
       "3     4.2\\n236  https://www.redbus.in/bus-tickets/hyderabad-to...   \n",
       "4     4.4\\n542  https://www.redbus.in/bus-tickets/hyderabad-to...   \n",
       "...        ...                                                ...   \n",
       "1048  4.5\\n381  https://www.redbus.in/bus-tickets/manali-to-delhi   \n",
       "1049    4.5\\n3  https://www.redbus.in/bus-tickets/manali-to-delhi   \n",
       "1050   4.5\\n13  https://www.redbus.in/bus-tickets/manali-to-delhi   \n",
       "1051  4.7\\n382  https://www.redbus.in/bus-tickets/manali-to-delhi   \n",
       "1052  4.6\\n365  https://www.redbus.in/bus-tickets/manali-to-delhi   \n",
       "\n",
       "                   Route_name        State_Name  \n",
       "0     Hyderabad to Vijayawada   Aandhra_Pradesh  \n",
       "1     Hyderabad to Vijayawada   Aandhra_Pradesh  \n",
       "2     Hyderabad to Vijayawada   Aandhra_Pradesh  \n",
       "3     Hyderabad to Vijayawada   Aandhra_Pradesh  \n",
       "4     Hyderabad to Vijayawada   Aandhra_Pradesh  \n",
       "...                       ...               ...  \n",
       "1048          Manali to Delhi  Himachal Pradesh  \n",
       "1049          Manali to Delhi  Himachal Pradesh  \n",
       "1050          Manali to Delhi  Himachal Pradesh  \n",
       "1051          Manali to Delhi  Himachal Pradesh  \n",
       "1052          Manali to Delhi  Himachal Pradesh  \n",
       "\n",
       "[1053 rows x 11 columns]"
      ]
     },
     "execution_count": 5,
     "metadata": {},
     "output_type": "execute_result"
    }
   ],
   "source": [
    "df_buses_1=pd.read_csv(\"Aandhra_details.csv\")\n",
    "df_buses_2=pd.read_csv(\"Assam_details.csv\")\n",
    "df_buses_3=pd.read_csv(\"chandigarh_Details.csv\")\n",
    "df_buses_4=pd.read_csv(\"Kerala_Details.csv\")\n",
    "df_buses_5=pd.read_csv(\"West_Bengal_Details.csv\")\n",
    "df_buses_6=pd.read_csv(\"South_Bengal_Details.csv\")\n",
    "df_buses_7=pd.read_csv(\"North_Bengal_Details.csv\")\n",
    "df_buses_8=pd.read_csv(\"Kadamba_Details.csv\")\n",
    "df_buses_9=pd.read_csv(\"Jammu_Kashmir_Details.csv\")\n",
    "df_buses_10=pd.read_csv(\"Himachal_Details.csv\")\n",
    "\n",
    "Final_df=pd.concat([df_buses_1,df_buses_2,df_buses_3,df_buses_4,df_buses_5,df_buses_6,\n",
    "                    df_buses_7,df_buses_8,df_buses_9,df_buses_10],ignore_index=True)\n",
    "Final_df"
   ]
  },
  {
   "cell_type": "markdown",
   "id": "afba0eb2-24be-4ef2-98f4-70c9650db4f1",
   "metadata": {
    "jp-MarkdownHeadingCollapsed": true
   },
   "source": [
    "# Data Cleaning"
   ]
  },
  {
   "cell_type": "code",
   "execution_count": 7,
   "id": "677c9f83-e68f-4c35-8d13-68b61c03844a",
   "metadata": {},
   "outputs": [
    {
     "name": "stdout",
     "output_type": "stream",
     "text": [
      "<class 'pandas.core.frame.DataFrame'>\n",
      "RangeIndex: 1053 entries, 0 to 1052\n",
      "Data columns (total 11 columns):\n",
      " #   Column           Non-Null Count  Dtype \n",
      "---  ------           --------------  ----- \n",
      " 0   Bus_name         1052 non-null   object\n",
      " 1   Bus_type         1052 non-null   object\n",
      " 2   Start_time       1052 non-null   object\n",
      " 3   End_time         1052 non-null   object\n",
      " 4   Total_duration   1052 non-null   object\n",
      " 5   Price            1052 non-null   object\n",
      " 6   Seats_Available  1052 non-null   object\n",
      " 7   Ratings          1052 non-null   object\n",
      " 8   Route_link       1052 non-null   object\n",
      " 9   Route_name       1052 non-null   object\n",
      " 10  State_Name       1053 non-null   object\n",
      "dtypes: object(11)\n",
      "memory usage: 90.6+ KB\n"
     ]
    }
   ],
   "source": [
    "Final_df.info()"
   ]
  },
  {
   "cell_type": "code",
   "execution_count": 9,
   "id": "625fa653-c974-4710-a90b-22341cd30bb5",
   "metadata": {},
   "outputs": [
    {
     "data": {
      "text/plain": [
       "0        649.0\n",
       "1        486.0\n",
       "2        499.0\n",
       "3        449.0\n",
       "4        529.0\n",
       "         ...  \n",
       "1048     902.0\n",
       "1049    1099.0\n",
       "1050     754.0\n",
       "1051     749.0\n",
       "1052     805.0\n",
       "Name: Price, Length: 1053, dtype: float64"
      ]
     },
     "execution_count": 9,
     "metadata": {},
     "output_type": "execute_result"
    }
   ],
   "source": [
    "Final_df[\"Price\"]=Final_df[\"Price\"].str.replace(\"INR\",\"\")\n",
    "Final_df[\"Price\"]=Final_df[\"Price\"].astype(float)\n",
    "Final_df[\"Price\"].fillna(0)"
   ]
  },
  {
   "cell_type": "code",
   "execution_count": 11,
   "id": "92b8a9d1-7b11-4b0b-82cc-80ebd9144019",
   "metadata": {},
   "outputs": [
    {
     "name": "stderr",
     "output_type": "stream",
     "text": [
      "C:\\Users\\Ilaya-03\\AppData\\Local\\Temp\\ipykernel_11136\\709375803.py:6: FutureWarning: A value is trying to be set on a copy of a DataFrame or Series through chained assignment using an inplace method.\n",
      "The behavior will change in pandas 3.0. This inplace method will never work because the intermediate object on which we are setting values always behaves as a copy.\n",
      "\n",
      "For example, when doing 'df[col].method(value, inplace=True)', try using 'df.method({col: value}, inplace=True)' or df[col] = df[col].method(value) instead, to perform the operation inplace on the original object.\n",
      "\n",
      "\n",
      "  Final_df[\"Ratings\"].fillna(0,inplace=True)\n"
     ]
    }
   ],
   "source": [
    "#convert Ratings to numeric\n",
    "Final_df[\"Ratings\"]=Final_df[\"Ratings\"].str.replace(\"New\",\"\")\n",
    "Final_df[\"Ratings\"]=Final_df[\"Ratings\"].str.strip()\n",
    "Final_df[\"Ratings\"]=Final_df[\"Ratings\"].str.split().str[0]\n",
    "Final_df[\"Ratings\"] = pd.to_numeric(Final_df[\"Ratings\"], errors='coerce')\n",
    "Final_df[\"Ratings\"].fillna(0,inplace=True) "
   ]
  },
  {
   "cell_type": "code",
   "execution_count": 13,
   "id": "e1bc23f8-74ca-493b-8926-8bc72227bd70",
   "metadata": {},
   "outputs": [
    {
     "name": "stdout",
     "output_type": "stream",
     "text": [
      "<class 'pandas.core.frame.DataFrame'>\n",
      "RangeIndex: 1053 entries, 0 to 1052\n",
      "Data columns (total 11 columns):\n",
      " #   Column           Non-Null Count  Dtype  \n",
      "---  ------           --------------  -----  \n",
      " 0   Bus_name         1052 non-null   object \n",
      " 1   Bus_type         1052 non-null   object \n",
      " 2   Start_time       1052 non-null   object \n",
      " 3   End_time         1052 non-null   object \n",
      " 4   Total_duration   1052 non-null   object \n",
      " 5   Price            1052 non-null   float64\n",
      " 6   Seats_Available  1052 non-null   object \n",
      " 7   Ratings          1053 non-null   float64\n",
      " 8   Route_link       1052 non-null   object \n",
      " 9   Route_name       1052 non-null   object \n",
      " 10  State_Name       1053 non-null   object \n",
      "dtypes: float64(2), object(9)\n",
      "memory usage: 90.6+ KB\n"
     ]
    }
   ],
   "source": [
    "Final_df.info()"
   ]
  },
  {
   "cell_type": "code",
   "execution_count": 15,
   "id": "bbddce0a-9f89-41e0-ae11-9dbafd3da1ce",
   "metadata": {},
   "outputs": [],
   "source": [
    "Final_df = Final_df[Final_df[\"Price\"] <= 7000]"
   ]
  },
  {
   "cell_type": "code",
   "execution_count": 17,
   "id": "c51bcd69-7ef3-4f57-80c8-9ae621de67c8",
   "metadata": {},
   "outputs": [],
   "source": [
    "# replacing the nan value\n",
    "Final_df = Final_df.replace({np.nan: None})"
   ]
  },
  {
   "cell_type": "code",
   "execution_count": 19,
   "id": "371b6bd2-a002-4ac9-8103-f64554e86891",
   "metadata": {},
   "outputs": [],
   "source": [
    "Final_df.to_csv(\"Overall_Details.csv\", index=False)"
   ]
  },
  {
   "cell_type": "markdown",
   "id": "ad054d77-aecd-472b-b273-aa0ea67a4168",
   "metadata": {},
   "source": [
    "# Create My SQL"
   ]
  },
  {
   "cell_type": "code",
   "execution_count": 21,
   "id": "ba9ff92c-9f0e-4d88-a78a-21b35e5424a8",
   "metadata": {},
   "outputs": [],
   "source": [
    "#sql connection\n",
    "conn=mysql.connector.connect(host=\"localhost\", user=\"root\", password=\"Saisakthi@18\",database=\"red_bus\")\n",
    "my_cursor = conn.cursor()\n",
    "my_cursor.execute(\"CREATE DATABASE IF NOT EXISTS red_bus\")"
   ]
  },
  {
   "cell_type": "code",
   "execution_count": 28,
   "id": "02380466-7970-47ee-94a3-35a57a5c9d60",
   "metadata": {},
   "outputs": [
    {
     "name": "stdout",
     "output_type": "stream",
     "text": [
      "Values inserted successfully\n"
     ]
    }
   ],
   "source": [
    "\n",
    "csv_file_path = \"Overall_Details.csv\" \n",
    "Final_df = pd.read_csv(\"Overall_Details.csv\")\n",
    "\n",
    "conn = mysql.connector.connect(\n",
    "    host=\"localhost\",\n",
    "    user=\"root\",\n",
    "    password=\"Saisakthi@18\",\n",
    "    database=\"red_bus\"\n",
    ")\n",
    "\n",
    "\n",
    "my_cursor = conn.cursor()\n",
    "\n",
    "insert_query = '''INSERT INTO bus_details(\n",
    "                    Bus_name,\n",
    "                    Bus_type,\n",
    "                    Start_time,\n",
    "                    End_time,\n",
    "                    Total_duration,\n",
    "                    Price,\n",
    "                    Seats_Available,\n",
    "                    Ratings,\n",
    "                    Route_link,\n",
    "                    Route_name,\n",
    "                    State_Name)\n",
    "                  VALUES (%s, %s, %s, %s, %s, %s, %s, %s, %s, %s, %s)'''\n",
    "\n",
    "\n",
    "data = Final_df.values.tolist()\n",
    "\n",
    "try:\n",
    "    my_cursor.executemany(insert_query, data)\n",
    "    conn.commit()\n",
    "    print(\"Values inserted successfully\")\n",
    "except mysql.connector.Error as err:\n",
    "    print(f\"Error: {err}\")\n",
    "    conn.rollback()\n",
    "    \n",
    "my_cursor.close()\n",
    "conn.close()\n"
   ]
  },
  {
   "cell_type": "markdown",
   "id": "70945a63-181e-4e89-a31d-b6a16ae7ff22",
   "metadata": {},
   "source": [
    "# Next Step"
   ]
  },
  {
   "cell_type": "code",
   "execution_count": null,
   "id": "6c3b58b2-f974-4928-b067-88485e2f1fb4",
   "metadata": {},
   "outputs": [],
   "source": [
    "# Bulid Streamlit"
   ]
  }
 ],
 "metadata": {
  "kernelspec": {
   "display_name": "Python 3 (ipykernel)",
   "language": "python",
   "name": "python3"
  },
  "language_info": {
   "codemirror_mode": {
    "name": "ipython",
    "version": 3
   },
   "file_extension": ".py",
   "mimetype": "text/x-python",
   "name": "python",
   "nbconvert_exporter": "python",
   "pygments_lexer": "ipython3",
   "version": "3.12.4"
  }
 },
 "nbformat": 4,
 "nbformat_minor": 5
}
